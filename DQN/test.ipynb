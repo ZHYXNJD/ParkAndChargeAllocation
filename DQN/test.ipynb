{
 "cells": [
  {
   "cell_type": "code",
   "execution_count": 10,
   "outputs": [],
   "source": [
    "import numpy as np\n",
    "import pandas as pd"
   ],
   "metadata": {
    "collapsed": false,
    "pycharm": {
     "name": "#%%\n"
    }
   }
  },
  {
   "cell_type": "code",
   "execution_count": 4,
   "outputs": [
    {
     "data": {
      "text/plain": "array([0, 0, 0])"
     },
     "execution_count": 4,
     "metadata": {},
     "output_type": "execute_result"
    }
   ],
   "source": [
    "l1 = np.array([0,0,0,0,0])\n",
    "l1[2:]"
   ],
   "metadata": {
    "collapsed": false,
    "pycharm": {
     "name": "#%%\n"
    }
   }
  },
  {
   "cell_type": "code",
   "execution_count": 5,
   "outputs": [],
   "source": [
    "l1[2:] = l1[2:]+1"
   ],
   "metadata": {
    "collapsed": false,
    "pycharm": {
     "name": "#%%\n"
    }
   }
  },
  {
   "cell_type": "code",
   "execution_count": 6,
   "outputs": [
    {
     "data": {
      "text/plain": "array([0, 0, 1, 1, 1])"
     },
     "execution_count": 6,
     "metadata": {},
     "output_type": "execute_result"
    }
   ],
   "source": [
    "l1"
   ],
   "metadata": {
    "collapsed": false,
    "pycharm": {
     "name": "#%%\n"
    }
   }
  },
  {
   "cell_type": "code",
   "execution_count": 13,
   "outputs": [],
   "source": [
    "l2 = np.array([0,1,2]*15).reshape(15,3).T"
   ],
   "metadata": {
    "collapsed": false,
    "pycharm": {
     "name": "#%%\n"
    }
   }
  },
  {
   "cell_type": "code",
   "execution_count": 14,
   "outputs": [
    {
     "data": {
      "text/plain": "array([[0, 0, 0, 0, 0, 0, 0, 0, 0, 0, 0, 0, 0, 0, 0],\n       [1, 1, 1, 1, 1, 1, 1, 1, 1, 1, 1, 1, 1, 1, 1],\n       [2, 2, 2, 2, 2, 2, 2, 2, 2, 2, 2, 2, 2, 2, 2]])"
     },
     "execution_count": 14,
     "metadata": {},
     "output_type": "execute_result"
    }
   ],
   "source": [
    "l2"
   ],
   "metadata": {
    "collapsed": false,
    "pycharm": {
     "name": "#%%\n"
    }
   }
  },
  {
   "cell_type": "code",
   "execution_count": 35,
   "outputs": [
    {
     "data": {
      "text/plain": "[0,\n 0,\n 0,\n 0,\n 0,\n 0,\n 0,\n 0,\n 0,\n 0,\n 0,\n 0,\n 0,\n 0,\n 0,\n 1,\n 1,\n 1,\n 1,\n 1,\n 1,\n 1,\n 1,\n 1,\n 1,\n 1,\n 1,\n 1,\n 1,\n 1,\n 2,\n 2,\n 2,\n 2,\n 2,\n 2,\n 2,\n 2,\n 2,\n 2,\n 2,\n 2,\n 2,\n 2,\n 2]"
     },
     "execution_count": 35,
     "metadata": {},
     "output_type": "execute_result"
    }
   ],
   "source": [
    "l2.reshape(1,-1).tolist()[0]"
   ],
   "metadata": {
    "collapsed": false,
    "pycharm": {
     "name": "#%%\n"
    }
   }
  },
  {
   "cell_type": "code",
   "execution_count": 41,
   "outputs": [
    {
     "data": {
      "text/plain": "False"
     },
     "execution_count": 41,
     "metadata": {},
     "output_type": "execute_result"
    }
   ],
   "source": [
    "l = np.array([0,0,0,1])\n",
    "l.any() == 0"
   ],
   "metadata": {
    "collapsed": false,
    "pycharm": {
     "name": "#%%\n"
    }
   }
  },
  {
   "cell_type": "code",
   "execution_count": 43,
   "outputs": [
    {
     "data": {
      "text/plain": "array([[0, 0, 0],\n       [1, 1, 1],\n       [2, 2, 2],\n       [4, 4, 4]])"
     },
     "execution_count": 43,
     "metadata": {},
     "output_type": "execute_result"
    }
   ],
   "source": [
    "np.array([[0,0,0],[1,1,1],[2,2,2],[4,4,4]]).reshape(4,-1)"
   ],
   "metadata": {
    "collapsed": false,
    "pycharm": {
     "name": "#%%\n"
    }
   }
  },
  {
   "cell_type": "code",
   "execution_count": 11,
   "outputs": [],
   "source": [
    "test = np.array([[0,1,2],[3,0,5],[0,0,8]])"
   ],
   "metadata": {
    "collapsed": false,
    "pycharm": {
     "name": "#%%\n"
    }
   }
  },
  {
   "cell_type": "code",
   "execution_count": 18,
   "outputs": [
    {
     "ename": "AttributeError",
     "evalue": "'tuple' object has no attribute 'tolist'",
     "output_type": "error",
     "traceback": [
      "\u001B[1;31m---------------------------------------------------------------------------\u001B[0m",
      "\u001B[1;31mAttributeError\u001B[0m                            Traceback (most recent call last)",
      "Cell \u001B[1;32mIn[18], line 1\u001B[0m\n\u001B[1;32m----> 1\u001B[0m \u001B[43mnp\u001B[49m\u001B[38;5;241;43m.\u001B[39;49m\u001B[43mwhere\u001B[49m\u001B[43m(\u001B[49m\u001B[43mtest\u001B[49m\u001B[38;5;241;43m<\u001B[39;49m\u001B[38;5;241;43m=\u001B[39;49m\u001B[38;5;241;43m0\u001B[39;49m\u001B[43m)\u001B[49m\u001B[38;5;241;43m.\u001B[39;49m\u001B[43mtolist\u001B[49m()\n",
      "\u001B[1;31mAttributeError\u001B[0m: 'tuple' object has no attribute 'tolist'"
     ]
    }
   ],
   "source": [
    "np.where(test<=0)"
   ],
   "metadata": {
    "collapsed": false,
    "pycharm": {
     "name": "#%%\n"
    }
   }
  },
  {
   "cell_type": "code",
   "execution_count": 20,
   "outputs": [
    {
     "name": "stdout",
     "output_type": "stream",
     "text": [
      "1\n",
      "5\n",
      "7\n",
      "8\n"
     ]
    }
   ],
   "source": [
    "nrow =np.where(test<=0)[0]\n",
    "ncol=np.where(test<=0)[1]\n",
    "for row, col in zip(nrow,ncol):\n",
    "    print(row*3+col+1)"
   ],
   "metadata": {
    "collapsed": false,
    "pycharm": {
     "name": "#%%\n"
    }
   }
  },
  {
   "cell_type": "code",
   "execution_count": 21,
   "outputs": [
    {
     "data": {
      "text/plain": "-1540"
     },
     "execution_count": 21,
     "metadata": {},
     "output_type": "execute_result"
    }
   ],
   "source": [
    "2670-1860-47*50"
   ],
   "metadata": {
    "collapsed": false,
    "pycharm": {
     "name": "#%%\n"
    }
   }
  },
  {
   "cell_type": "code",
   "execution_count": 22,
   "outputs": [
    {
     "data": {
      "text/plain": "-1900"
     },
     "execution_count": 22,
     "metadata": {},
     "output_type": "execute_result"
    }
   ],
   "source": [
    "2570-1920-51*50"
   ],
   "metadata": {
    "collapsed": false,
    "pycharm": {
     "name": "#%%\n"
    }
   }
  },
  {
   "cell_type": "code",
   "execution_count": 1,
   "outputs": [],
   "source": [
    "import numpy as np"
   ],
   "metadata": {
    "collapsed": false,
    "pycharm": {
     "name": "#%%\n"
    }
   }
  },
  {
   "cell_type": "code",
   "execution_count": 41,
   "outputs": [],
   "source": [
    "status = np.array([[1,0,8],[0,-2,5]])"
   ],
   "metadata": {
    "collapsed": false,
    "pycharm": {
     "name": "#%%\n"
    }
   }
  },
  {
   "cell_type": "code",
   "execution_count": 26,
   "outputs": [],
   "source": [
    "status[list(np.where(status[:,2]<=0)[0])] = 0"
   ],
   "metadata": {
    "collapsed": false,
    "pycharm": {
     "name": "#%%\n"
    }
   }
  },
  {
   "cell_type": "code",
   "execution_count": 43,
   "outputs": [
    {
     "data": {
      "text/plain": "array([[ 1,  0,  8],\n       [ 0, -2,  5]])"
     },
     "execution_count": 43,
     "metadata": {},
     "output_type": "execute_result"
    }
   ],
   "source": [
    "status"
   ],
   "metadata": {
    "collapsed": false,
    "pycharm": {
     "name": "#%%\n"
    }
   }
  },
  {
   "cell_type": "code",
   "execution_count": 42,
   "outputs": [
    {
     "data": {
      "text/plain": "[0, 1]"
     },
     "execution_count": 42,
     "metadata": {},
     "output_type": "execute_result"
    }
   ],
   "source": [
    "list(np.where(status[list(np.where(status[:,1]<=0)[0]),2]>0)[0])"
   ],
   "metadata": {
    "collapsed": false,
    "pycharm": {
     "name": "#%%\n"
    }
   }
  },
  {
   "cell_type": "code",
   "execution_count": 2,
   "outputs": [],
   "source": [
    "import pandas as pd\n",
    "import numpy as np"
   ],
   "metadata": {
    "collapsed": false,
    "pycharm": {
     "name": "#%%\n"
    }
   }
  },
  {
   "cell_type": "code",
   "execution_count": 24,
   "outputs": [],
   "source": [
    "so_assign = pd.read_csv(\"../save_data/需求41供给11/400-0.25/assign_info/so_2.csv\")\n",
    "fbfs_assign = pd.read_csv(\"../save_data/需求41供给11/400-0.25/assign_info/fbfs_2.csv\")\n",
    "dp_assign = pd.read_csv(\"../save_data/需求41供给11/400-0.25/assign_info/dp_2.csv\")"
   ],
   "metadata": {
    "collapsed": false,
    "pycharm": {
     "name": "#%%\n"
    }
   }
  },
  {
   "cell_type": "code",
   "execution_count": 25,
   "outputs": [],
   "source": [
    "so_assign.drop('assign_t',inplace=True,axis=1)"
   ],
   "metadata": {
    "collapsed": false,
    "pycharm": {
     "name": "#%%\n"
    }
   }
  },
  {
   "cell_type": "code",
   "execution_count": 26,
   "outputs": [],
   "source": [
    "fbfs_assign.drop(['assign_t','cruising_t'],inplace=True,axis=1)\n",
    "dp_assign.drop(['assign_t','cruising_t'],inplace=True,axis=1)"
   ],
   "metadata": {
    "collapsed": false,
    "pycharm": {
     "name": "#%%\n"
    }
   }
  },
  {
   "cell_type": "code",
   "execution_count": 27,
   "outputs": [],
   "source": [
    "so_assign = pd.merge(so_assign,fbfs_assign,on='req_id',how='outer')\n",
    "so_assign = pd.merge(so_assign,dp_assign,on='req_id',how='outer')"
   ],
   "metadata": {
    "collapsed": false,
    "pycharm": {
     "name": "#%%\n"
    }
   }
  },
  {
   "cell_type": "code",
   "execution_count": 28,
   "outputs": [
    {
     "data": {
      "text/plain": "     req_id  space_num_x  pl_num_x  space_num_y  pl_num_y  space_num  pl_num\n0      42.0          0.0       0.0         32.0       0.0       90.0     3.0\n1     104.0          1.0       0.0         81.0       3.0       75.0     3.0\n2     208.0          1.0       0.0          NaN       NaN        NaN     NaN\n3     232.0          1.0       0.0          NaN       NaN        NaN     NaN\n4      78.0          2.0       0.0         74.0       3.0       64.0     2.0\n..      ...          ...       ...          ...       ...        ...     ...\n397   113.0          NaN       NaN          NaN       NaN       89.0     3.0\n398   138.0          NaN       NaN          NaN       NaN        4.0     0.0\n399   205.0          NaN       NaN          NaN       NaN       75.0     3.0\n400   283.0          NaN       NaN          NaN       NaN       43.0     1.0\n401   350.0          NaN       NaN          NaN       NaN       30.0     0.0\n\n[402 rows x 7 columns]",
      "text/html": "<div>\n<style scoped>\n    .dataframe tbody tr th:only-of-type {\n        vertical-align: middle;\n    }\n\n    .dataframe tbody tr th {\n        vertical-align: top;\n    }\n\n    .dataframe thead th {\n        text-align: right;\n    }\n</style>\n<table border=\"1\" class=\"dataframe\">\n  <thead>\n    <tr style=\"text-align: right;\">\n      <th></th>\n      <th>req_id</th>\n      <th>space_num_x</th>\n      <th>pl_num_x</th>\n      <th>space_num_y</th>\n      <th>pl_num_y</th>\n      <th>space_num</th>\n      <th>pl_num</th>\n    </tr>\n  </thead>\n  <tbody>\n    <tr>\n      <th>0</th>\n      <td>42.0</td>\n      <td>0.0</td>\n      <td>0.0</td>\n      <td>32.0</td>\n      <td>0.0</td>\n      <td>90.0</td>\n      <td>3.0</td>\n    </tr>\n    <tr>\n      <th>1</th>\n      <td>104.0</td>\n      <td>1.0</td>\n      <td>0.0</td>\n      <td>81.0</td>\n      <td>3.0</td>\n      <td>75.0</td>\n      <td>3.0</td>\n    </tr>\n    <tr>\n      <th>2</th>\n      <td>208.0</td>\n      <td>1.0</td>\n      <td>0.0</td>\n      <td>NaN</td>\n      <td>NaN</td>\n      <td>NaN</td>\n      <td>NaN</td>\n    </tr>\n    <tr>\n      <th>3</th>\n      <td>232.0</td>\n      <td>1.0</td>\n      <td>0.0</td>\n      <td>NaN</td>\n      <td>NaN</td>\n      <td>NaN</td>\n      <td>NaN</td>\n    </tr>\n    <tr>\n      <th>4</th>\n      <td>78.0</td>\n      <td>2.0</td>\n      <td>0.0</td>\n      <td>74.0</td>\n      <td>3.0</td>\n      <td>64.0</td>\n      <td>2.0</td>\n    </tr>\n    <tr>\n      <th>...</th>\n      <td>...</td>\n      <td>...</td>\n      <td>...</td>\n      <td>...</td>\n      <td>...</td>\n      <td>...</td>\n      <td>...</td>\n    </tr>\n    <tr>\n      <th>397</th>\n      <td>113.0</td>\n      <td>NaN</td>\n      <td>NaN</td>\n      <td>NaN</td>\n      <td>NaN</td>\n      <td>89.0</td>\n      <td>3.0</td>\n    </tr>\n    <tr>\n      <th>398</th>\n      <td>138.0</td>\n      <td>NaN</td>\n      <td>NaN</td>\n      <td>NaN</td>\n      <td>NaN</td>\n      <td>4.0</td>\n      <td>0.0</td>\n    </tr>\n    <tr>\n      <th>399</th>\n      <td>205.0</td>\n      <td>NaN</td>\n      <td>NaN</td>\n      <td>NaN</td>\n      <td>NaN</td>\n      <td>75.0</td>\n      <td>3.0</td>\n    </tr>\n    <tr>\n      <th>400</th>\n      <td>283.0</td>\n      <td>NaN</td>\n      <td>NaN</td>\n      <td>NaN</td>\n      <td>NaN</td>\n      <td>43.0</td>\n      <td>1.0</td>\n    </tr>\n    <tr>\n      <th>401</th>\n      <td>350.0</td>\n      <td>NaN</td>\n      <td>NaN</td>\n      <td>NaN</td>\n      <td>NaN</td>\n      <td>30.0</td>\n      <td>0.0</td>\n    </tr>\n  </tbody>\n</table>\n<p>402 rows × 7 columns</p>\n</div>"
     },
     "execution_count": 28,
     "metadata": {},
     "output_type": "execute_result"
    }
   ],
   "source": [
    "so_assign"
   ],
   "metadata": {
    "collapsed": false,
    "pycharm": {
     "name": "#%%\n"
    }
   }
  },
  {
   "cell_type": "code",
   "execution_count": 29,
   "outputs": [
    {
     "data": {
      "text/plain": "     Unnamed: 0  request_t  arrival_t  activity_t  leave_t  label  O  D  \\\n0             0        -27         17         344      361      0  1  0   \n1             1         33         48        1301     1349      0  1  0   \n2             2         64         89         301      390      0  0  0   \n3             3        141        166        1334     1500      0  1  0   \n4             4        192        202         825     1027      0  1  0   \n..          ...        ...        ...         ...      ...    ... .. ..   \n495         495       1397       1412          44     1456      1  0  1   \n496         496       1374       1419          56     1475      1  1  1   \n497         497       1398       1423          43     1466      1  0  1   \n498         498       1398       1423          97     1520      1  0  1   \n499         499       1401       1426         103     1529      1  1  0   \n\n     new_label  revenue  req_id  \n0            0      NaN       0  \n1            0      NaN       1  \n2            0      NaN       2  \n3            0      NaN       3  \n4            0      NaN       4  \n..         ...      ...     ...  \n495          1      NaN     495  \n496          1      NaN     496  \n497          1      NaN     497  \n498          2      NaN     498  \n499          2      NaN     499  \n\n[500 rows x 11 columns]",
      "text/html": "<div>\n<style scoped>\n    .dataframe tbody tr th:only-of-type {\n        vertical-align: middle;\n    }\n\n    .dataframe tbody tr th {\n        vertical-align: top;\n    }\n\n    .dataframe thead th {\n        text-align: right;\n    }\n</style>\n<table border=\"1\" class=\"dataframe\">\n  <thead>\n    <tr style=\"text-align: right;\">\n      <th></th>\n      <th>Unnamed: 0</th>\n      <th>request_t</th>\n      <th>arrival_t</th>\n      <th>activity_t</th>\n      <th>leave_t</th>\n      <th>label</th>\n      <th>O</th>\n      <th>D</th>\n      <th>new_label</th>\n      <th>revenue</th>\n      <th>req_id</th>\n    </tr>\n  </thead>\n  <tbody>\n    <tr>\n      <th>0</th>\n      <td>0</td>\n      <td>-27</td>\n      <td>17</td>\n      <td>344</td>\n      <td>361</td>\n      <td>0</td>\n      <td>1</td>\n      <td>0</td>\n      <td>0</td>\n      <td>NaN</td>\n      <td>0</td>\n    </tr>\n    <tr>\n      <th>1</th>\n      <td>1</td>\n      <td>33</td>\n      <td>48</td>\n      <td>1301</td>\n      <td>1349</td>\n      <td>0</td>\n      <td>1</td>\n      <td>0</td>\n      <td>0</td>\n      <td>NaN</td>\n      <td>1</td>\n    </tr>\n    <tr>\n      <th>2</th>\n      <td>2</td>\n      <td>64</td>\n      <td>89</td>\n      <td>301</td>\n      <td>390</td>\n      <td>0</td>\n      <td>0</td>\n      <td>0</td>\n      <td>0</td>\n      <td>NaN</td>\n      <td>2</td>\n    </tr>\n    <tr>\n      <th>3</th>\n      <td>3</td>\n      <td>141</td>\n      <td>166</td>\n      <td>1334</td>\n      <td>1500</td>\n      <td>0</td>\n      <td>1</td>\n      <td>0</td>\n      <td>0</td>\n      <td>NaN</td>\n      <td>3</td>\n    </tr>\n    <tr>\n      <th>4</th>\n      <td>4</td>\n      <td>192</td>\n      <td>202</td>\n      <td>825</td>\n      <td>1027</td>\n      <td>0</td>\n      <td>1</td>\n      <td>0</td>\n      <td>0</td>\n      <td>NaN</td>\n      <td>4</td>\n    </tr>\n    <tr>\n      <th>...</th>\n      <td>...</td>\n      <td>...</td>\n      <td>...</td>\n      <td>...</td>\n      <td>...</td>\n      <td>...</td>\n      <td>...</td>\n      <td>...</td>\n      <td>...</td>\n      <td>...</td>\n      <td>...</td>\n    </tr>\n    <tr>\n      <th>495</th>\n      <td>495</td>\n      <td>1397</td>\n      <td>1412</td>\n      <td>44</td>\n      <td>1456</td>\n      <td>1</td>\n      <td>0</td>\n      <td>1</td>\n      <td>1</td>\n      <td>NaN</td>\n      <td>495</td>\n    </tr>\n    <tr>\n      <th>496</th>\n      <td>496</td>\n      <td>1374</td>\n      <td>1419</td>\n      <td>56</td>\n      <td>1475</td>\n      <td>1</td>\n      <td>1</td>\n      <td>1</td>\n      <td>1</td>\n      <td>NaN</td>\n      <td>496</td>\n    </tr>\n    <tr>\n      <th>497</th>\n      <td>497</td>\n      <td>1398</td>\n      <td>1423</td>\n      <td>43</td>\n      <td>1466</td>\n      <td>1</td>\n      <td>0</td>\n      <td>1</td>\n      <td>1</td>\n      <td>NaN</td>\n      <td>497</td>\n    </tr>\n    <tr>\n      <th>498</th>\n      <td>498</td>\n      <td>1398</td>\n      <td>1423</td>\n      <td>97</td>\n      <td>1520</td>\n      <td>1</td>\n      <td>0</td>\n      <td>1</td>\n      <td>2</td>\n      <td>NaN</td>\n      <td>498</td>\n    </tr>\n    <tr>\n      <th>499</th>\n      <td>499</td>\n      <td>1401</td>\n      <td>1426</td>\n      <td>103</td>\n      <td>1529</td>\n      <td>1</td>\n      <td>1</td>\n      <td>0</td>\n      <td>2</td>\n      <td>NaN</td>\n      <td>499</td>\n    </tr>\n  </tbody>\n</table>\n<p>500 rows × 11 columns</p>\n</div>"
     },
     "execution_count": 29,
     "metadata": {},
     "output_type": "execute_result"
    }
   ],
   "source": [
    "req_info = pd.read_csv(\"../需求分布/demand0607/400-0.25.csv\")\n",
    "req_info"
   ],
   "metadata": {
    "collapsed": false,
    "pycharm": {
     "name": "#%%\n"
    }
   }
  },
  {
   "cell_type": "code",
   "execution_count": 30,
   "outputs": [],
   "source": [
    "def get_revenue(req_info):\n",
    "    park_fee = 3 / 2  # 半个小时的费用\n",
    "    charge_fee = [0, 0.7, 0.3]  # 每分钟的价格\n",
    "    reserved_fee = 1  # 预约费用\n",
    "    req_info['revenue'] = [(np.floor(req_info['activity_t'].iloc[i] / 15) * park_fee + (\n",
    "            req_info['activity_t'].iloc[i] * (charge_fee[req_info['new_label'].iloc[i]])) + reserved_fee) for i in\n",
    "                           range(len(req_info))]\n",
    "    req_info['revenue_std'] = (req_info['revenue'] - min(req_info['revenue'])) / (\n",
    "            max(req_info['revenue']) - min(req_info['revenue']))\n",
    "    return req_info\n",
    "req_info  = get_revenue(req_info)"
   ],
   "metadata": {
    "collapsed": false,
    "pycharm": {
     "name": "#%%\n"
    }
   }
  },
  {
   "cell_type": "code",
   "execution_count": 32,
   "outputs": [],
   "source": [
    "req_info.drop('Unnamed: 0',inplace=True,axis=1)\n",
    "req_info = pd.merge(req_info,so_assign,on='req_id',how='left')"
   ],
   "metadata": {
    "collapsed": false,
    "pycharm": {
     "name": "#%%\n"
    }
   }
  },
  {
   "cell_type": "code",
   "execution_count": 33,
   "outputs": [
    {
     "data": {
      "text/plain": "     request_t  arrival_t  activity_t  leave_t  label  O  D  new_label  \\\n0          -27         17         344      361      0  1  0          0   \n1           33         48        1301     1349      0  1  0          0   \n2           64         89         301      390      0  0  0          0   \n3          141        166        1334     1500      0  1  0          0   \n4          192        202         825     1027      0  1  0          0   \n..         ...        ...         ...      ...    ... .. ..        ...   \n495       1397       1412          44     1456      1  0  1          1   \n496       1374       1419          56     1475      1  1  1          1   \n497       1398       1423          43     1466      1  0  1          1   \n498       1398       1423          97     1520      1  0  1          2   \n499       1401       1426         103     1529      1  1  0          2   \n\n     revenue  req_id  revenue_std  space_num_x  pl_num_x  space_num_y  \\\n0       34.0       0     0.215686         30.0       0.0         39.0   \n1      130.0       1     0.843137         47.0       1.0          5.0   \n2       31.0       2     0.196078         76.0       3.0         13.0   \n3      133.0       3     0.862745         51.0       1.0         15.0   \n4       83.5       4     0.539216         71.0       3.0         38.0   \n..       ...     ...          ...          ...       ...          ...   \n495     34.8     495     0.220915         23.0       0.0          NaN   \n496     44.7     496     0.285621         26.0       0.0         31.0   \n497     34.1     497     0.216340         56.0       1.0          NaN   \n498     39.1     498     0.249020         37.0       0.0          NaN   \n499     40.9     499     0.260784         69.0       2.0          NaN   \n\n     pl_num_y  space_num  pl_num  \n0         0.0       41.0     1.0  \n1         0.0       38.0     0.0  \n2         0.0        5.0     0.0  \n3         0.0       16.0     0.0  \n4         0.0        0.0     0.0  \n..        ...        ...     ...  \n495       NaN        NaN     NaN  \n496       0.0       91.0     3.0  \n497       NaN        NaN     NaN  \n498       NaN        NaN     NaN  \n499       NaN        NaN     NaN  \n\n[500 rows x 17 columns]",
      "text/html": "<div>\n<style scoped>\n    .dataframe tbody tr th:only-of-type {\n        vertical-align: middle;\n    }\n\n    .dataframe tbody tr th {\n        vertical-align: top;\n    }\n\n    .dataframe thead th {\n        text-align: right;\n    }\n</style>\n<table border=\"1\" class=\"dataframe\">\n  <thead>\n    <tr style=\"text-align: right;\">\n      <th></th>\n      <th>request_t</th>\n      <th>arrival_t</th>\n      <th>activity_t</th>\n      <th>leave_t</th>\n      <th>label</th>\n      <th>O</th>\n      <th>D</th>\n      <th>new_label</th>\n      <th>revenue</th>\n      <th>req_id</th>\n      <th>revenue_std</th>\n      <th>space_num_x</th>\n      <th>pl_num_x</th>\n      <th>space_num_y</th>\n      <th>pl_num_y</th>\n      <th>space_num</th>\n      <th>pl_num</th>\n    </tr>\n  </thead>\n  <tbody>\n    <tr>\n      <th>0</th>\n      <td>-27</td>\n      <td>17</td>\n      <td>344</td>\n      <td>361</td>\n      <td>0</td>\n      <td>1</td>\n      <td>0</td>\n      <td>0</td>\n      <td>34.0</td>\n      <td>0</td>\n      <td>0.215686</td>\n      <td>30.0</td>\n      <td>0.0</td>\n      <td>39.0</td>\n      <td>0.0</td>\n      <td>41.0</td>\n      <td>1.0</td>\n    </tr>\n    <tr>\n      <th>1</th>\n      <td>33</td>\n      <td>48</td>\n      <td>1301</td>\n      <td>1349</td>\n      <td>0</td>\n      <td>1</td>\n      <td>0</td>\n      <td>0</td>\n      <td>130.0</td>\n      <td>1</td>\n      <td>0.843137</td>\n      <td>47.0</td>\n      <td>1.0</td>\n      <td>5.0</td>\n      <td>0.0</td>\n      <td>38.0</td>\n      <td>0.0</td>\n    </tr>\n    <tr>\n      <th>2</th>\n      <td>64</td>\n      <td>89</td>\n      <td>301</td>\n      <td>390</td>\n      <td>0</td>\n      <td>0</td>\n      <td>0</td>\n      <td>0</td>\n      <td>31.0</td>\n      <td>2</td>\n      <td>0.196078</td>\n      <td>76.0</td>\n      <td>3.0</td>\n      <td>13.0</td>\n      <td>0.0</td>\n      <td>5.0</td>\n      <td>0.0</td>\n    </tr>\n    <tr>\n      <th>3</th>\n      <td>141</td>\n      <td>166</td>\n      <td>1334</td>\n      <td>1500</td>\n      <td>0</td>\n      <td>1</td>\n      <td>0</td>\n      <td>0</td>\n      <td>133.0</td>\n      <td>3</td>\n      <td>0.862745</td>\n      <td>51.0</td>\n      <td>1.0</td>\n      <td>15.0</td>\n      <td>0.0</td>\n      <td>16.0</td>\n      <td>0.0</td>\n    </tr>\n    <tr>\n      <th>4</th>\n      <td>192</td>\n      <td>202</td>\n      <td>825</td>\n      <td>1027</td>\n      <td>0</td>\n      <td>1</td>\n      <td>0</td>\n      <td>0</td>\n      <td>83.5</td>\n      <td>4</td>\n      <td>0.539216</td>\n      <td>71.0</td>\n      <td>3.0</td>\n      <td>38.0</td>\n      <td>0.0</td>\n      <td>0.0</td>\n      <td>0.0</td>\n    </tr>\n    <tr>\n      <th>...</th>\n      <td>...</td>\n      <td>...</td>\n      <td>...</td>\n      <td>...</td>\n      <td>...</td>\n      <td>...</td>\n      <td>...</td>\n      <td>...</td>\n      <td>...</td>\n      <td>...</td>\n      <td>...</td>\n      <td>...</td>\n      <td>...</td>\n      <td>...</td>\n      <td>...</td>\n      <td>...</td>\n      <td>...</td>\n    </tr>\n    <tr>\n      <th>495</th>\n      <td>1397</td>\n      <td>1412</td>\n      <td>44</td>\n      <td>1456</td>\n      <td>1</td>\n      <td>0</td>\n      <td>1</td>\n      <td>1</td>\n      <td>34.8</td>\n      <td>495</td>\n      <td>0.220915</td>\n      <td>23.0</td>\n      <td>0.0</td>\n      <td>NaN</td>\n      <td>NaN</td>\n      <td>NaN</td>\n      <td>NaN</td>\n    </tr>\n    <tr>\n      <th>496</th>\n      <td>1374</td>\n      <td>1419</td>\n      <td>56</td>\n      <td>1475</td>\n      <td>1</td>\n      <td>1</td>\n      <td>1</td>\n      <td>1</td>\n      <td>44.7</td>\n      <td>496</td>\n      <td>0.285621</td>\n      <td>26.0</td>\n      <td>0.0</td>\n      <td>31.0</td>\n      <td>0.0</td>\n      <td>91.0</td>\n      <td>3.0</td>\n    </tr>\n    <tr>\n      <th>497</th>\n      <td>1398</td>\n      <td>1423</td>\n      <td>43</td>\n      <td>1466</td>\n      <td>1</td>\n      <td>0</td>\n      <td>1</td>\n      <td>1</td>\n      <td>34.1</td>\n      <td>497</td>\n      <td>0.216340</td>\n      <td>56.0</td>\n      <td>1.0</td>\n      <td>NaN</td>\n      <td>NaN</td>\n      <td>NaN</td>\n      <td>NaN</td>\n    </tr>\n    <tr>\n      <th>498</th>\n      <td>1398</td>\n      <td>1423</td>\n      <td>97</td>\n      <td>1520</td>\n      <td>1</td>\n      <td>0</td>\n      <td>1</td>\n      <td>2</td>\n      <td>39.1</td>\n      <td>498</td>\n      <td>0.249020</td>\n      <td>37.0</td>\n      <td>0.0</td>\n      <td>NaN</td>\n      <td>NaN</td>\n      <td>NaN</td>\n      <td>NaN</td>\n    </tr>\n    <tr>\n      <th>499</th>\n      <td>1401</td>\n      <td>1426</td>\n      <td>103</td>\n      <td>1529</td>\n      <td>1</td>\n      <td>1</td>\n      <td>0</td>\n      <td>2</td>\n      <td>40.9</td>\n      <td>499</td>\n      <td>0.260784</td>\n      <td>69.0</td>\n      <td>2.0</td>\n      <td>NaN</td>\n      <td>NaN</td>\n      <td>NaN</td>\n      <td>NaN</td>\n    </tr>\n  </tbody>\n</table>\n<p>500 rows × 17 columns</p>\n</div>"
     },
     "execution_count": 33,
     "metadata": {},
     "output_type": "execute_result"
    }
   ],
   "source": [
    "req_info"
   ],
   "metadata": {
    "collapsed": false,
    "pycharm": {
     "name": "#%%\n"
    }
   }
  },
  {
   "cell_type": "code",
   "execution_count": null,
   "outputs": [],
   "source": [],
   "metadata": {
    "collapsed": false,
    "pycharm": {
     "name": "#%%\n"
    }
   }
  }
 ],
 "metadata": {
  "kernelspec": {
   "name": "mykernel",
   "language": "python",
   "display_name": "mykernel"
  },
  "language_info": {
   "codemirror_mode": {
    "name": "ipython",
    "version": 2
   },
   "file_extension": ".py",
   "mimetype": "text/x-python",
   "name": "python",
   "nbconvert_exporter": "python",
   "pygments_lexer": "ipython2",
   "version": "2.7.6"
  }
 },
 "nbformat": 4,
 "nbformat_minor": 0
}