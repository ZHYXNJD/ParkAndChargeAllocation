{
 "cells": [
  {
   "cell_type": "code",
   "execution_count": 4,
   "outputs": [],
   "source": [
    "import pandas as pd\n",
    "import os\n",
    "import numpy as np"
   ],
   "metadata": {
    "collapsed": false,
    "pycharm": {
     "name": "#%%\n"
    }
   }
  },
  {
   "cell_type": "code",
   "execution_count": 3,
   "outputs": [
    {
     "data": {
      "text/plain": "'G:\\\\2023-纵向\\\\停车分配\\\\save_data_0923\\\\需求11供给11'"
     },
     "execution_count": 3,
     "metadata": {},
     "output_type": "execute_result"
    }
   ],
   "source": [
    "os.chdir(r\"G:\\2023-纵向\\停车分配\\save_data_0923\\需求11供给11\")\n",
    "os.getcwd()"
   ],
   "metadata": {
    "collapsed": false,
    "pycharm": {
     "name": "#%%\n"
    }
   }
  },
  {
   "cell_type": "code",
   "execution_count": 15,
   "outputs": [],
   "source": [
    "park_fee = 3 / 2  # 半个小时的费用\n",
    "charge_fee = [0, 0.7, 0.5]  # 每分钟的价格\n",
    "reserved_fee = 1\n",
    "\n",
    "def get_req_info(foldername):\n",
    "    folder_path = \"G://2023-纵向//停车分配//需求分布//demand0607//\"\n",
    "    file_path = folder_path + foldername+ \".csv\"\n",
    "    req_info =  pd.read_csv(file_path)\n",
    "    req_info['revenue'] = [(np.floor(req_info['activity_t'].iloc[i] / 15) * park_fee + (\n",
    "        req_info['activity_t'].iloc[i] * (charge_fee[req_info['new_label'].iloc[i]])) + reserved_fee) for i in\n",
    "                               range(len(req_info))]\n",
    "    req_info['request_interval'] = (req_info['request_t'] - min(req_info['request_t'])) // 15\n",
    "    return req_info\n",
    "\n",
    "\n",
    "def revise_assign_info(base_dir, skip_folders=None):\n",
    "    if skip_folders is None:\n",
    "        skip_folders = []\n",
    "\n",
    "    # 遍历所有的子文件夹\n",
    "    for root, dirs, files in os.walk(base_dir):\n",
    "        # 跳过指定的文件夹\n",
    "        dirs[:] = [d for d in dirs if d not in skip_folders]\n",
    "\n",
    "        # 检查是否在 result_info 目录下\n",
    "        if 'assign_info' in root:\n",
    "            folder_name = os.path.basename(os.path.dirname(root))  # 例如 '50-1', '75-1'\n",
    "\n",
    "            for file in files:\n",
    "                if file.split('_')[0] in ['rdp','so']:\n",
    "                    file_path = base_dir+\"//\"+folder_name+\"//assign_info//\"+file\n",
    "                    assign_info = pd.read_csv(file_path)\n",
    "                    req_info = get_req_info(folder_name)\n",
    "                    dpr_assign_filter = assign_info.loc[assign_info.groupby('req_id')['assign_t'].idxmax()]\n",
    "                    # dpr_assign_filter_merge = pd.merge(dpr_assign_filter, req_info[['req_id', 'revenue','label']], on='req_id', how='left')\n",
    "                    dpr_assign_filter_merge = pd.merge(dpr_assign_filter, req_info[['req_id','request_interval']], on='req_id', how='left')\n",
    "                    dpr_assign_filter_merge.to_csv(file_path,index=False)\n",
    "# 设置要跳过的文件夹\n",
    "skip_folders = [str(i)+'-1'for i in range(525,1025,25)]\n",
    "skip_folders.extend(['25-1','test_fbfs'])\n",
    "\n",
    "# 正确的 base_dir 路径设置\n",
    "base_dir = 'G://2023-纵向//停车分配//save_data_0923//需求11供给11'\n"
   ],
   "metadata": {
    "collapsed": false,
    "pycharm": {
     "name": "#%%\n"
    }
   }
  },
  {
   "cell_type": "code",
   "execution_count": 16,
   "outputs": [],
   "source": [
    "revise_assign_info(base_dir)"
   ],
   "metadata": {
    "collapsed": false,
    "pycharm": {
     "name": "#%%\n"
    }
   }
  },
  {
   "cell_type": "code",
   "execution_count": null,
   "outputs": [],
   "source": [],
   "metadata": {
    "collapsed": false,
    "pycharm": {
     "name": "#%%\n"
    }
   }
  }
 ],
 "metadata": {
  "kernelspec": {
   "display_name": "Python 3",
   "language": "python",
   "name": "python3"
  },
  "language_info": {
   "codemirror_mode": {
    "name": "ipython",
    "version": 2
   },
   "file_extension": ".py",
   "mimetype": "text/x-python",
   "name": "python",
   "nbconvert_exporter": "python",
   "pygments_lexer": "ipython2",
   "version": "2.7.6"
  }
 },
 "nbformat": 4,
 "nbformat_minor": 0
}